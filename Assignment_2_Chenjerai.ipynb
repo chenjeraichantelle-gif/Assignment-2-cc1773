{
  "nbformat": 4,
  "nbformat_minor": 0,
  "metadata": {
    "colab": {
      "provenance": [],
      "authorship_tag": "ABX9TyPR+QfGT8bOtU58mvLwDt8w",
      "include_colab_link": true
    },
    "kernelspec": {
      "name": "python3",
      "display_name": "Python 3"
    },
    "language_info": {
      "name": "python"
    }
  },
  "cells": [
    {
      "cell_type": "markdown",
      "metadata": {
        "id": "view-in-github",
        "colab_type": "text"
      },
      "source": [
        "<a href=\"https://colab.research.google.com/github/chenjeraichantelle-gif/Assignment-2-cc1773/blob/main/Assignment_2_Chenjerai.ipynb\" target=\"_parent\"><img src=\"https://colab.research.google.com/assets/colab-badge.svg\" alt=\"Open In Colab\"/></a>"
      ]
    },
    {
      "cell_type": "code",
      "source": [
        "Fruits = ['cherry','berry','strawberry']\n",
        "print(Fruits)"
      ],
      "metadata": {
        "colab": {
          "base_uri": "https://localhost:8080/"
        },
        "id": "CnN98u4-NSPC",
        "outputId": "2a69c942-7ee8-42a6-9bb0-cef3d18a33af"
      },
      "execution_count": 38,
      "outputs": [
        {
          "output_type": "stream",
          "name": "stdout",
          "text": [
            "['cherry', 'berry', 'strawberry']\n"
          ]
        }
      ]
    },
    {
      "cell_type": "code",
      "execution_count": 6,
      "metadata": {
        "colab": {
          "base_uri": "https://localhost:8080/"
        },
        "id": "_v1p5r6Uf4qw",
        "outputId": "e139dd60-18c4-4883-ba63-656d0ba30bd7"
      },
      "outputs": [
        {
          "output_type": "stream",
          "name": "stdout",
          "text": [
            "cherry\n",
            "berry\n",
            "strawberry\n"
          ]
        }
      ],
      "source": [
        "Fruits = ['cherry', 'berry', 'strawberry']\n",
        "print(Fruits[0])\n",
        "print(Fruits[1])\n",
        "print(Fruits[2])"
      ]
    },
    {
      "cell_type": "code",
      "source": [
        "names = ['Monica', 'Micheala', 'charamine']\n",
        "names[0]= 'Urshly'\n",
        "print(names)"
      ],
      "metadata": {
        "colab": {
          "base_uri": "https://localhost:8080/"
        },
        "id": "lODPLwinwiG_",
        "outputId": "5a1a87bb-48df-46d9-90b4-412e24ecf70e"
      },
      "execution_count": 7,
      "outputs": [
        {
          "output_type": "stream",
          "name": "stdout",
          "text": [
            "['Urshly', 'Micheala', 'charamine']\n"
          ]
        }
      ]
    },
    {
      "cell_type": "code",
      "source": [
        "cars=['rangerover', 'bentley', 'mercedes', 'jeep','urus']\n",
        "cars.insert(5,'landcruiser')\n",
        "print(cars)\n"
      ],
      "metadata": {
        "colab": {
          "base_uri": "https://localhost:8080/"
        },
        "id": "OBeUJix0zZWj",
        "outputId": "9a7d944b-efa6-46c7-f752-b156d989ccbf"
      },
      "execution_count": 11,
      "outputs": [
        {
          "output_type": "stream",
          "name": "stdout",
          "text": [
            "['rangerover', 'bentley', 'mercedes', 'jeep', 'urus', 'landcruiser']\n"
          ]
        }
      ]
    },
    {
      "cell_type": "code",
      "source": [
        "food=['noodles', 'rice', 'corn', 'bread', 'chapati', 'spaghetti']\n",
        "del food[5]\n",
        "print(food)"
      ],
      "metadata": {
        "colab": {
          "base_uri": "https://localhost:8080/"
        },
        "id": "68yY8KE-3yuo",
        "outputId": "cc810cbb-6ce9-4d59-f744-24d0610c9587"
      },
      "execution_count": 13,
      "outputs": [
        {
          "output_type": "stream",
          "name": "stdout",
          "text": [
            "['noodles', 'rice', 'corn', 'bread', 'chapati']\n"
          ]
        }
      ]
    },
    {
      "cell_type": "code",
      "source": [
        "cities=['dallas','denton','austin','houston']\n",
        "cities.sort()\n",
        "print(cities)\n",
        "cities.reverse()\n",
        "print(cities)"
      ],
      "metadata": {
        "colab": {
          "base_uri": "https://localhost:8080/"
        },
        "id": "6Im6YMIw5ZzH",
        "outputId": "e71b500e-bce5-46dd-8604-c6eb2f522b4d"
      },
      "execution_count": 19,
      "outputs": [
        {
          "output_type": "stream",
          "name": "stdout",
          "text": [
            "['austin', 'dallas', 'denton', 'houston']\n",
            "['houston', 'denton', 'dallas', 'austin']\n"
          ]
        }
      ]
    },
    {
      "cell_type": "code",
      "source": [
        "animals=['lion','bull','eagle']\n",
        "for animal in animals:\n",
        "  print(animal)\n"
      ],
      "metadata": {
        "colab": {
          "base_uri": "https://localhost:8080/"
        },
        "id": "HhekUwlQ7FzP",
        "outputId": "c629d555-06b4-466b-910b-e526f016f41c"
      },
      "execution_count": 20,
      "outputs": [
        {
          "output_type": "stream",
          "name": "stdout",
          "text": [
            "lion\n",
            "bull\n",
            "eagle\n"
          ]
        }
      ]
    },
    {
      "cell_type": "code",
      "source": [
        "numbers=[1,2,3,4,5]\n",
        "print(numbers)\n",
        "print(f'[numbers*2]')"
      ],
      "metadata": {
        "colab": {
          "base_uri": "https://localhost:8080/"
        },
        "id": "LFEg-2GG_zl7",
        "outputId": "f0fc1dc8-d76a-4546-a129-8e261988f76e"
      },
      "execution_count": 41,
      "outputs": [
        {
          "output_type": "stream",
          "name": "stdout",
          "text": [
            "[1, 2, 3, 4, 5]\n",
            "[numbers*2]\n"
          ]
        }
      ]
    },
    {
      "cell_type": "code",
      "source": [
        "friends=['mariah','monica','mellisa','monalisa','margret','michelle','Micheala']\n",
        "print(friends[0:3])\n",
        "print(friends[3:6])"
      ],
      "metadata": {
        "colab": {
          "base_uri": "https://localhost:8080/"
        },
        "id": "OM3Xk7ODFUa6",
        "outputId": "1f637f55-e75b-432e-8efb-1a78bc2de530"
      },
      "execution_count": 32,
      "outputs": [
        {
          "output_type": "stream",
          "name": "stdout",
          "text": [
            "['mariah', 'monica', 'mellisa']\n",
            "['monalisa', 'margret', 'michelle']\n"
          ]
        }
      ]
    },
    {
      "cell_type": "code",
      "source": [
        "numbers = list(range(1,6))\n",
        "print(numbers)"
      ],
      "metadata": {
        "colab": {
          "base_uri": "https://localhost:8080/"
        },
        "id": "cBTXKKvjI-FX",
        "outputId": "fa873564-b339-4534-aa7a-0080c4f21ad0"
      },
      "execution_count": 35,
      "outputs": [
        {
          "output_type": "stream",
          "name": "stdout",
          "text": [
            "[1, 2, 3, 4, 5]\n"
          ]
        }
      ]
    },
    {
      "cell_type": "code",
      "source": [
        "squares = [value**2 for value in range(1,6)]\n",
        "print(squares)"
      ],
      "metadata": {
        "colab": {
          "base_uri": "https://localhost:8080/"
        },
        "id": "YzvH5MjBLq9u",
        "outputId": "f37d401d-d895-4aaa-f8a2-9f5da8cd15ce"
      },
      "execution_count": 37,
      "outputs": [
        {
          "output_type": "stream",
          "name": "stdout",
          "text": [
            "[1, 4, 9, 16, 25]\n"
          ]
        }
      ]
    }
  ]
}